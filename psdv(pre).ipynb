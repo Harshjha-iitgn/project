{
 "cells": [
  {
   "cell_type": "code",
   "execution_count": 5,
   "metadata": {},
   "outputs": [
    {
     "name": "stdout",
     "output_type": "stream",
     "text": [
      "mean 10.0\n",
      "median 11.5\n",
      "standard deviation 5.0\n"
     ]
    }
   ],
   "source": [
    "l=[]\n",
    "for i in range(1,21):\n",
    "    l.append(i)\n",
    "sum_even=0\n",
    "sum_odd=0\n",
    "for i in l:\n",
    "    if i%2==0:\n",
    "        sum_even+=1\n",
    "    else:\n",
    "        sum_odd+=1\n",
    "mean=(sum_even+sum_odd)/2\n",
    "if len(l)%2!=0:\n",
    "    median=l[(len(l)+1)/2]\n",
    "else:\n",
    "    median=(l[int(len(l)/2)]+l[int(len(l)/2+1)])/2\n",
    "s_d=0\n",
    "for i in l:\n",
    "    s_d+=abs(mean-i)\n",
    "s_d=s_d/len(l)\n",
    "print(\"mean\",mean)\n",
    "print(\"median\",median)\n",
    "print(\"standard deviation\",s_d)\n"
   ]
  },
  {
   "cell_type": "code",
   "execution_count": 4,
   "metadata": {},
   "outputs": [
    {
     "name": "stdout",
     "output_type": "stream",
     "text": [
      "mean  7.833333333333333\n",
      "median  5.5\n"
     ]
    }
   ],
   "source": [
    "l=[3,5,7,9,11,13]\n",
    "l.insert(3,6)\n",
    "l.remove(7)\n",
    "l.reverse()\n",
    "mean=0\n",
    "median=0\n",
    "for i in l:\n",
    "    mean+=i\n",
    "if len(l)%2!=0:\n",
    "    median=l[(len(l)+1)/2]\n",
    "else:\n",
    "    median=(l[int(len(l)/2)]+l[int(len(l)/2+1)])/2\n",
    "print(\"mean \",mean/len(l))\n",
    "print(\"median \",median)\n"
   ]
  },
  {
   "cell_type": "code",
   "execution_count": 3,
   "metadata": {},
   "outputs": [
    {
     "name": "stdout",
     "output_type": "stream",
     "text": [
      "[12, 67, 78]\n",
      "smallest  12\n",
      "largest  78\n"
     ]
    }
   ],
   "source": [
    "l=input()\n",
    "k=l.split(\",\")\n",
    "\n",
    "for i in range(0,len(k)):\n",
    "    k[i]=int(k[i])\n",
    "k.sort()\n",
    "print(k)\n",
    "print(\"smallest \",k[0])\n",
    "print(\"largest \",k[len(k)-1])"
   ]
  },
  {
   "cell_type": "code",
   "execution_count": 15,
   "metadata": {},
   "outputs": [
    {
     "name": "stdout",
     "output_type": "stream",
     "text": [
      "amanaplanacanalpanama\n",
      "amanaplanacanalpanama\n",
      "True\n"
     ]
    }
   ],
   "source": [
    "s=input()\n",
    "s=s.replace(\" \",\"\")\n",
    "s=s.lower()\n",
    "k=s[::-1]\n",
    "print(s)\n",
    "print(k)\n",
    "if k==s:\n",
    "    print(True)"
   ]
  },
  {
   "cell_type": "code",
   "execution_count": 7,
   "metadata": {},
   "outputs": [
    {
     "name": "stdout",
     "output_type": "stream",
     "text": [
      "{'a': 10, 'b': 25, 'c': 15}\n"
     ]
    }
   ],
   "source": [
    "d1={'a': 10, 'b': 20}\n",
    "d2={'b': 5, 'c': 15}\n",
    "d3={}\n",
    "d_3={}\n",
    "hits=[]\n",
    "for i in d1.keys():\n",
    "    \n",
    "    for j in d2.keys():\n",
    "        if i==j:\n",
    "            d3[i]=d1[i]+d2[i]\n",
    "            hits.append(i)\n",
    "            \n",
    "            \n",
    "            break\n",
    "for i in hits:\n",
    "    d1.pop(i)\n",
    "    d2.pop(i)\n",
    "d3.update(d1)\n",
    "d3.update(d2)\n",
    "l=list(d3.keys())\n",
    "l.sort()\n",
    "for i in l:\n",
    "    d_3[i]=d3[i]\n",
    "print(d_3)\n",
    "    \n"
   ]
  },
  {
   "cell_type": "code",
   "execution_count": 6,
   "metadata": {},
   "outputs": [
    {
     "name": "stdout",
     "output_type": "stream",
     "text": [
      "['enlist', 'inlets']\n"
     ]
    }
   ],
   "source": [
    "def anagram_finder(a,l):\n",
    "   a_=[]\n",
    "   final=[]\n",
    "   for i in a:\n",
    "      if i!=\" \":\n",
    "         a_.append(i)\n",
    "   for i in l:\n",
    "      ch=[]\n",
    "      \n",
    "      for j in i:\n",
    "         if j!=\" \":\n",
    "            ch.append(j)\n",
    "      if sorted(ch)==sorted(a_):\n",
    "        \n",
    "         final.append(i)\n",
    "      \n",
    "    \n",
    "   return final\n",
    "print(anagram_finder(\"listen\",[\"enlist\", \"google\", \"inlets\", \"banana\"]))"
   ]
  },
  {
   "cell_type": "code",
   "execution_count": 3,
   "metadata": {},
   "outputs": [
    {
     "name": "stdout",
     "output_type": "stream",
     "text": [
      "Even\n"
     ]
    }
   ],
   "source": [
    "i=int(input())\n",
    "if i%2==0:\n",
    "    print(\"Even\")\n",
    "else:\n",
    "    print(\"Odd\")\n",
    "    "
   ]
  },
  {
   "cell_type": "code",
   "execution_count": 1,
   "metadata": {},
   "outputs": [
    {
     "name": "stdout",
     "output_type": "stream",
     "text": [
      "F\n"
     ]
    }
   ],
   "source": [
    "i=int(input())\n",
    "if i>90:\n",
    "    print(\"A\")\n",
    "elif i>80:\n",
    "    print(\"B\")\n",
    "elif i>70:\n",
    "    print(\"C\")\n",
    "elif i>60:\n",
    "    print(\"D\")\n",
    "elif i>50:\n",
    "    print(\"E\")\n",
    "else:\n",
    "    print(\"F\")"
   ]
  },
  {
   "cell_type": "code",
   "execution_count": 30,
   "metadata": {},
   "outputs": [
    {
     "name": "stdout",
     "output_type": "stream",
     "text": [
      "1900  is not a leap year\n"
     ]
    }
   ],
   "source": [
    "year=int(input())\n",
    "if year%4==0:\n",
    "    if year%400==0:\n",
    "        print(year,\" is a leap year\")\n",
    "    elif year%100!=0:\n",
    "        print(year,\" is a leap year\")\n",
    "    else:\n",
    "        print(year,\" is not a leap year\")\n",
    "else:\n",
    "    print(year,\" is not a leap year\")"
   ]
  }
 ],
 "metadata": {
  "kernelspec": {
   "display_name": "Python 3 (ipykernel)",
   "language": "python",
   "name": "python3"
  },
  "language_info": {
   "codemirror_mode": {
    "name": "ipython",
    "version": 3
   },
   "file_extension": ".py",
   "mimetype": "text/x-python",
   "name": "python",
   "nbconvert_exporter": "python",
   "pygments_lexer": "ipython3",
   "version": "3.12.5"
  }
 },
 "nbformat": 4,
 "nbformat_minor": 4
}
